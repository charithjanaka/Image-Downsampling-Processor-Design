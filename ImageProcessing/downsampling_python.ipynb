{
 "cells": [
  {
   "cell_type": "code",
   "execution_count": 1,
   "metadata": {},
   "outputs": [],
   "source": [
    "import numpy as np\n",
    "import cv2 as cv"
   ]
  },
  {
   "cell_type": "code",
   "execution_count": 2,
   "metadata": {},
   "outputs": [],
   "source": [
    "def decTObin(num):\n",
    "    bnum = bin(num).replace(\"0b\", \"\")\n",
    "    return \"0\"*(8-len(bnum))+bnum"
   ]
  },
  {
   "cell_type": "code",
   "execution_count": 12,
   "metadata": {},
   "outputs": [
    {
     "name": "stdout",
     "output_type": "stream",
     "text": [
      "(258, 258)\n"
     ]
    }
   ],
   "source": [
    "img = cv.imread(r\"C:\\Users\\Charith Janaka\\Desktop\\Sem_05\\CSD\\Processor_Design\\Repository\\ImageProcessing\\Lena256X256.png\",cv.IMREAD_GRAYSCALE)\n",
    "\n",
    "imgpaded = cv.copyMakeBorder(img, 1, 1, 1, 1, cv.BORDER_CONSTANT,None, value = 0)\n",
    "\n",
    "print(imgpaded.shape)\n",
    "\n",
    "filew = open(\"Lena256X256_DRAM.txt\",\"w\")\n",
    "imgf = open(\"Lena256X256pixels.txt\",\"w\")\n",
    "W, H = imgpaded.shape\n",
    "\n",
    "for x in range (W):\n",
    "    for y in range (H):\n",
    "        filew.write(str((decTObin(imgpaded[x][y])))+\"\\n\")\n",
    "        imgf.write(str((imgpaded[x][y]))+\" \"+(y==257)*\"\\n\")"
   ]
  },
  {
   "cell_type": "code",
   "execution_count": 9,
   "metadata": {},
   "outputs": [
    {
     "name": "stdout",
     "output_type": "stream",
     "text": [
      "[[ 90 118 119 ...  88 116 118]\n",
      " [119 158 159 ... 122 131 109]\n",
      " [117 155 155 ... 111  67  46]\n",
      " ...\n",
      " [ 39  54  60 ...  56  52  59]\n",
      " [ 36  51  56 ...  57  65  82]\n",
      " [ 34  47  52 ...  60  82  99]]\n"
     ]
    }
   ],
   "source": [
    "kh = np.array([1/4,1/2,1/4], np.float32)\n",
    "kv = np.array([1/4,1/2,1/4], np.float32)\n",
    "\n",
    "vc_img = open(\"verticalconv256x256.txt\",\"w\")\n",
    "lpf_img = open(\"lpf256x256.txt\",\"w\")\n",
    "ds_img = open(\"ds256x256.txt\",\"w\")\n",
    "\n",
    "# Vertical Convolution\n",
    "W1 = 258\n",
    "H1 = 256\n",
    "\n",
    "imgres = np.zeros((258,258),np.uint8)\n",
    "\n",
    "for x in range(W1):\n",
    "    for y in range(H1):\n",
    "        tot1 = imgpaded[y][x]*kv[0] + imgpaded[y+1][x]*kv[1] + imgpaded[y+2][x]*kv[2]\n",
    "        vc_img.write(str(int(tot1))+ \" \"+ (y==257)*\"\\n\")\n",
    "        imgres[y+1][x] = int(tot1)\n",
    "\n",
    "#print(imgres)\n",
    "\n",
    "imglpf = np.zeros((256,256),np.uint8)\n",
    "\n",
    "#Horizontal Convolution\n",
    "\n",
    "W2 = 256\n",
    "H2 = 256\n",
    "\n",
    "for x in range(W2):\n",
    "    for y in range(H2):\n",
    "        tot = imgres[x+1][y]*kh[0] + imgres[x+1][y+1]*kh[1] + imgres[x+1][y+2]*kh[2]\n",
    "        imglpf[x][y] = int(tot)\n",
    "        lpf_img.write(str(int(tot))+ \" \"+ (y==255)*\"\\n\")\n",
    "\n",
    "#print(\"\\n\")\n",
    "\n",
    "#print(imglpf)\n",
    "\n",
    "imgds = np.zeros((128,128),np.uint8)\n",
    "\n",
    "#Downsampling\n",
    "W3 = 128\n",
    "H3 = 128\n",
    "i = 0\n",
    "\n",
    "for x in range(W3):\n",
    "    j = 0\n",
    "    for y in range(H3):\n",
    "        imgds[x][y] = imglpf[i][j]\n",
    "        ds_img.write(str(int(imglpf[i][j]))+ \" \"+ (y==127)*\"\\n\")\n",
    "        j+= 2\n",
    "    i+= 2\n",
    "\n",
    "#print(imgds)"
   ]
  }
 ],
 "metadata": {
  "kernelspec": {
   "display_name": "Python 3.8.10 64-bit",
   "language": "python",
   "name": "python3"
  },
  "language_info": {
   "codemirror_mode": {
    "name": "ipython",
    "version": 3
   },
   "file_extension": ".py",
   "mimetype": "text/x-python",
   "name": "python",
   "nbconvert_exporter": "python",
   "pygments_lexer": "ipython3",
   "version": "3.8.10"
  },
  "orig_nbformat": 4,
  "vscode": {
   "interpreter": {
    "hash": "94f2dbc9e840bbf5c22d6d33400cf3201d841aabf0886e4a70e862fb8f8cca7f"
   }
  }
 },
 "nbformat": 4,
 "nbformat_minor": 2
}
