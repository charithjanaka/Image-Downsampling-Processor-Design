{
 "cells": [
  {
   "cell_type": "code",
   "execution_count": 15,
   "metadata": {},
   "outputs": [],
   "source": [
    "import numpy as np\n",
    "import cv2 as cv"
   ]
  },
  {
   "cell_type": "code",
   "execution_count": 19,
   "metadata": {},
   "outputs": [],
   "source": [
    "original_img = cv.imread(r\"C:\\Users\\Charith Janaka\\Desktop\\Sem_05\\CSD\\Processor_Design\\Repository\\ImageProcessing\\Lena256X256.png\",cv.IMREAD_GRAYSCALE)\n",
    "downsampled_img = open(r\"C:\\Users\\Charith Janaka\\Desktop\\Sem_05\\CSD\\Processor_Design\\Repository\\Verilog\\sim_src\\dramout.txt\",\"r\")\n",
    "\n",
    "rows = downsampled_img.read().splitlines()\n",
    "\n",
    "img_array = np.zeros((128,128),np.uint8)\n",
    "\n",
    "i = 0\n",
    "for r in rows:\n",
    "    pixels = r.split()\n",
    "    j = 0\n",
    "    for pixel in pixels[1:]:\n",
    "        img_array[i][j] = pixel\n",
    "        j += 1\n",
    "    i += 1\n",
    "\n",
    "cv.namedWindow(\"OriginalImg\")        \n",
    "cv.moveWindow(\"OriginalImg\", 500,300)  \n",
    "cv.imshow(\"OriginalImg\", original_img)\n",
    "\n",
    "cv.namedWindow(\"DownsampledImg\")       \n",
    "cv.moveWindow(\"DownsampledImg\", 800,300)  \n",
    "cv.imshow(\"DownsampledImg\", img_array)\n",
    "\n",
    "cv.waitKey()\n",
    "cv.destroyAllWindows()\n"
   ]
  },
  {
   "cell_type": "markdown",
   "metadata": {},
   "source": [
    "## Calculating Error between Downsampling using Python and Downsampling using Processor"
   ]
  },
  {
   "cell_type": "code",
   "execution_count": 17,
   "metadata": {},
   "outputs": [
    {
     "name": "stdout",
     "output_type": "stream",
     "text": [
      "Error per Pixel:  0.0\n"
     ]
    }
   ],
   "source": [
    "# Image downsampling using python (Using the same algorithm)\n",
    "\n",
    "kh = np.array([1/4,1/2,1/4], np.float32)\n",
    "kv = np.array([1/4,1/2,1/4], np.float32)\n",
    "\n",
    "original_img = cv.imread(r\"C:\\Users\\Charith Janaka\\Desktop\\Sem_05\\CSD\\Processor_Design\\Repository\\ImageProcessing\\Lena256X256.png\",cv.IMREAD_GRAYSCALE)\n",
    "imgpaded = cv.copyMakeBorder(original_img, 1, 1, 1, 1, cv.BORDER_CONSTANT,None, value = 0)\n",
    "\n",
    "# Vertical Convolution\n",
    "W1 = 258\n",
    "H1 = 256\n",
    "\n",
    "imgres = np.zeros((258,258),np.uint8)\n",
    "\n",
    "for x in range(W1):\n",
    "    for y in range(H1):\n",
    "        tot1 = (imgpaded[y][x]*kv[0] + imgpaded[y+1][x]*kv[1] + imgpaded[y+2][x]*kv[2])\n",
    "        imgres[y+1][x] = tot1\n",
    "\n",
    "imglpf = np.zeros((256,256),np.uint8)\n",
    "\n",
    "#Horizontal Convolution\n",
    "\n",
    "W2 = 256\n",
    "H2 = 256\n",
    "\n",
    "for x in range(W2):\n",
    "    for y in range(H2):\n",
    "        tot = (imgres[x+1][y]*kh[0] + imgres[x+1][y+1]*kh[1] + imgres[x+1][y+2]*kh[2])\n",
    "        imglpf[x][y] = tot\n",
    "\n",
    "imgds = np.zeros((128,128),np.uint8)\n",
    "\n",
    "#Downsampling\n",
    "W3 = 128\n",
    "H3 = 128\n",
    "i = 0\n",
    "\n",
    "for x in range(W3):\n",
    "    j = 0\n",
    "    for y in range(H3):\n",
    "        imgds[x][y] = imglpf[i][j]\n",
    "        j+= 2\n",
    "    i+= 2\n",
    "\n",
    "#---------------------------------------------------------------------------------------------------------------------------------------------------------#\n",
    "\n",
    "# Downsampled Image using our processor\n",
    "\n",
    "downsampled_img = open(r\"C:\\Users\\Charith Janaka\\Desktop\\Sem_05\\CSD\\Processor_Design\\Repository\\Verilog\\sim_src\\dramout.txt\",\"r\")\n",
    "\n",
    "rows = downsampled_img.read().splitlines()\n",
    "\n",
    "img_array = np.zeros((128,128),np.uint8)\n",
    "\n",
    "i = 0\n",
    "for r in rows:\n",
    "    pixels = r.split()\n",
    "    j = 0\n",
    "    for pixel in pixels[1:]:\n",
    "        img_array[i][j] = pixel\n",
    "        j += 1\n",
    "    i += 1\n",
    "\n",
    "#----------------------------------------------------------------------------------------------------------------------------------------------------------#\n",
    "\n",
    "# Calculating Error\n",
    "\n",
    "width = 128\n",
    "height = 128\n",
    "Error = 0\n",
    "\n",
    "for x in range(height):\n",
    "    for y in range(width):\n",
    "        Error += np.abs(imgds[x][y] - img_array[x][y])\n",
    "\n",
    "print(\"Error per Pixel: \", Error/(128*128))\n"
   ]
  }
 ],
 "metadata": {
  "kernelspec": {
   "display_name": "Python 3.8.10 64-bit",
   "language": "python",
   "name": "python3"
  },
  "language_info": {
   "codemirror_mode": {
    "name": "ipython",
    "version": 3
   },
   "file_extension": ".py",
   "mimetype": "text/x-python",
   "name": "python",
   "nbconvert_exporter": "python",
   "pygments_lexer": "ipython3",
   "version": "3.8.10"
  },
  "orig_nbformat": 4,
  "vscode": {
   "interpreter": {
    "hash": "94f2dbc9e840bbf5c22d6d33400cf3201d841aabf0886e4a70e862fb8f8cca7f"
   }
  }
 },
 "nbformat": 4,
 "nbformat_minor": 2
}
