{
 "cells": [
  {
   "cell_type": "code",
   "execution_count": 1,
   "metadata": {},
   "outputs": [],
   "source": [
    "import numpy as np\n",
    "import cv2 as cv"
   ]
  },
  {
   "cell_type": "code",
   "execution_count": 12,
   "metadata": {},
   "outputs": [],
   "source": [
    "original_img = cv.imread(r\"C:\\Users\\Charith Janaka\\Desktop\\Sem_05\\CSD\\Processor_Design\\Repository\\ImageProcessing\\Lena256X256.png\",cv.IMREAD_GRAYSCALE)\n",
    "downsampled_img = open(r\"C:\\Users\\Charith Janaka\\Desktop\\Sem_05\\CSD\\Processor_Design\\Repository\\Verilog\\sim_src\\dramout.txt\",\"r\")\n",
    "\n",
    "rows = downsampled_img.read().splitlines()\n",
    "\n",
    "img_array = np.zeros((128,128),np.uint8)\n",
    "\n",
    "i = 0\n",
    "for r in rows:\n",
    "    pixels = r.split()\n",
    "    j = 0\n",
    "    for pixel in pixels[1:]:\n",
    "        img_array[i][j] = pixel\n",
    "        j += 1\n",
    "    i += 1\n",
    "\n",
    "#print(img_array)\n",
    "#cv.imshow(\"Original Image\", original_img)\n",
    "#cv.imshow(\"Downsampled Image\", img_array)\n",
    "#cv.waitKey()\n",
    "#cv.destroyAllWindows()\n",
    "\n",
    "cv.namedWindow(\"OriginalImg\")        \n",
    "cv.moveWindow(\"OriginalImg\", 500,300)  \n",
    "cv.imshow(\"OriginalImg\", original_img)\n",
    "\n",
    "cv.namedWindow(\"DownsampledImg\")       \n",
    "cv.moveWindow(\"DownsampledImg\", 800,300)  \n",
    "cv.imshow(\"DownsampledImg\", img_array)\n",
    "\n",
    "cv.waitKey()\n",
    "cv.destroyAllWindows()\n"
   ]
  }
 ],
 "metadata": {
  "kernelspec": {
   "display_name": "Python 3.8.10 64-bit",
   "language": "python",
   "name": "python3"
  },
  "language_info": {
   "codemirror_mode": {
    "name": "ipython",
    "version": 3
   },
   "file_extension": ".py",
   "mimetype": "text/x-python",
   "name": "python",
   "nbconvert_exporter": "python",
   "pygments_lexer": "ipython3",
   "version": "3.8.10"
  },
  "orig_nbformat": 4,
  "vscode": {
   "interpreter": {
    "hash": "94f2dbc9e840bbf5c22d6d33400cf3201d841aabf0886e4a70e862fb8f8cca7f"
   }
  }
 },
 "nbformat": 4,
 "nbformat_minor": 2
}
