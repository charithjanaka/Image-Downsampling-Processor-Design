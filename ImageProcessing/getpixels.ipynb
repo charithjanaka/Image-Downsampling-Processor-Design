{
 "cells": [
  {
   "cell_type": "code",
   "execution_count": null,
   "metadata": {},
   "outputs": [],
   "source": [
    "import cv2 as cv\n",
    "import numpy as np"
   ]
  },
  {
   "cell_type": "code",
   "execution_count": null,
   "metadata": {},
   "outputs": [],
   "source": [
    "def decTObin(num):\n",
    "    bnum = bin(num).replace(\"0b\", \"\")\n",
    "    return \"0\"*(8-len(bnum))+bnum"
   ]
  },
  {
   "cell_type": "code",
   "execution_count": null,
   "metadata": {},
   "outputs": [],
   "source": [
    "img = cv.imread(r\"C:\\Users\\Charith Janaka\\Desktop\\Sem_05\\CSD\\Processor_Design\\Repository\\ImageProcessing\\Lena128x128.png\",cv.IMREAD_GRAYSCALE)\n",
    "imgpaded = cv.copyMakeBorder(img, 1, 1, 1, 1, cv.BORDER_CONSTANT,None, value = 0)\n",
    "print(imgpaded.shape)\n",
    "pixels = open(\"pixels.txt\",\"w\")\n",
    "\n",
    "W, H = imgpaded.shape\n",
    "\n",
    "for x in range (W):\n",
    "    for y in range (H):\n",
    "        pixels.write(str((imgpaded[x][y]))+\" \"+\"\\n\"*(y==129))"
   ]
  },
  {
   "cell_type": "code",
   "execution_count": null,
   "metadata": {},
   "outputs": [],
   "source": [
    "kh = np.array([1/4,1/2,1/4], np.float32)\n",
    "kv = np.array([1/4,1/2,1/4], np.float32)\n",
    "\n",
    "lpf_img = open(\"lpf_img.txt\",\"w\")\n",
    "\n",
    "imgres = np.zeros((130,130),np.uint8)\n",
    "\n",
    "#Horizontal Convolution\n",
    "W0, H0 = imgpaded.shape\n",
    "W0 = W0 - 2\n",
    "H0 = H0 - 2\n",
    "\n",
    "for x in range(W0):\n",
    "    for y in range(H0):\n",
    "        tot = imgpaded[x][y]*kh[0] + imgpaded[x][y+1]*kv[1] + imgpaded[x][y+2]*kv[2]\n",
    "        imgres[x][y+1] = int(tot)\n",
    "\n",
    "print(imgres)\n",
    "\n",
    "# Vertical Convolution\n",
    "W1,H1 = imgpaded.shape\n",
    "W1 = W1-2\n",
    "H1 = H1-2\n",
    "\n",
    "for x in range(W1):\n",
    "    for y in range(H1):\n",
    "        tot1 = imgres[y][x+1]*kv[0] + imgres[y+1][x+1]*kv[1] + imgres[y+2][x+1]*kv[2]\n",
    "        lpf_img.write(str(int(tot1))+ \" \"+ (y==127)*\"\\n\")\n",
    "        imgres[y+1][x+1] = int(tot1)\n",
    "\n",
    "print(imgres)\n"
   ]
  },
  {
   "cell_type": "code",
   "execution_count": 15,
   "metadata": {},
   "outputs": [],
   "source": [
    "import numpy as np\n",
    "import cv2 as cv\n",
    "\n",
    "img = np.array([[101,102,103,104,105,106,107,108,109,110],\n",
    "                [101,102,103,104,105,106,107,108,109,110],\n",
    "                [101,102,103,104,105,106,107,108,109,110],\n",
    "                [101,102,103,104,105,106,107,108,109,110],\n",
    "                [101,102,103,104,105,106,107,108,109,110],\n",
    "                [101,102,103,104,105,106,107,108,109,110],\n",
    "                [101,102,103,104,105,106,107,108,109,110],\n",
    "                [101,102,103,104,105,106,107,108,109,110],\n",
    "                [101,102,103,104,105,106,107,108,109,110],\n",
    "                [101,102,103,104,105,106,107,108,109,110],])\n",
    "\n",
    "imgp = cv.copyMakeBorder(img, 1, 1, 1, 1, cv.BORDER_CONSTANT,None, value = 0)\n",
    "\n",
    "pixels = open(\"img10x10.txt\",\"w\")\n",
    "\n",
    "W, H = imgp.shape\n",
    "\n",
    "for x in range (W):\n",
    "    for y in range (H):\n",
    "        pixels.write(str((imgp[x][y]))+\" \"+\"\\n\"*(y==11))"
   ]
  },
  {
   "cell_type": "code",
   "execution_count": 17,
   "metadata": {},
   "outputs": [],
   "source": [
    "def decTObin(num):\n",
    "    bnum = bin(num).replace(\"0b\", \"\")\n",
    "    return \"0\"*(8-len(bnum))+bnum\n",
    "\n",
    "pixelsd = open(\"img10x10ram.txt\",\"w\")\n",
    "\n",
    "W, H = imgp.shape\n",
    "\n",
    "for x in range (W):\n",
    "    for y in range (H):\n",
    "        pixelsd.write(str((decTObin(imgp[x][y])))+\"\\n\")"
   ]
  },
  {
   "cell_type": "code",
   "execution_count": 27,
   "metadata": {},
   "outputs": [
    {
     "name": "stdout",
     "output_type": "stream",
     "text": [
      "[[  0   0   0   0   0   0   0   0   0   0   0   0]\n",
      " [  0  75  76  77  78  78  79  80  81  81  82   0]\n",
      " [  0 101 102 103 104 105 106 107 108 109 110   0]\n",
      " [  0 101 102 103 104 105 106 107 108 109 110   0]\n",
      " [  0 101 102 103 104 105 106 107 108 109 110   0]\n",
      " [  0 101 102 103 104 105 106 107 108 109 110   0]\n",
      " [  0 101 102 103 104 105 106 107 108 109 110   0]\n",
      " [  0 101 102 103 104 105 106 107 108 109 110   0]\n",
      " [  0 101 102 103 104 105 106 107 108 109 110   0]\n",
      " [  0 101 102 103 104 105 106 107 108 109 110   0]\n",
      " [  0  75  76  77  78  78  79  80  81  81  82   0]\n",
      " [  0   0   0   0   0   0   0   0   0   0   0   0]]\n",
      "\n",
      "\n",
      "[[ 56  76  77  77  78  79  80  80  81  61]\n",
      " [ 76 102 103 104 105 106 107 108 109  82]\n",
      " [ 76 102 103 104 105 106 107 108 109  82]\n",
      " [ 76 102 103 104 105 106 107 108 109  82]\n",
      " [ 76 102 103 104 105 106 107 108 109  82]\n",
      " [ 76 102 103 104 105 106 107 108 109  82]\n",
      " [ 76 102 103 104 105 106 107 108 109  82]\n",
      " [ 76 102 103 104 105 106 107 108 109  82]\n",
      " [ 76 102 103 104 105 106 107 108 109  82]\n",
      " [ 56  76  77  77  78  79  80  80  81  61]]\n"
     ]
    }
   ],
   "source": [
    "kh = np.array([1/4,1/2,1/4], np.float32)\n",
    "kv = np.array([1/4,1/2,1/4], np.float32)\n",
    "\n",
    "vc_img = open(\"verticalconv10x10.txt\",\"w\")\n",
    "\n",
    "# Vertical Convolution\n",
    "W1 = 12\n",
    "H1 = 10\n",
    "\n",
    "imgres = np.zeros((12,12),np.uint8)\n",
    "\n",
    "for x in range(W1):\n",
    "    for y in range(H1):\n",
    "        tot1 = imgp[y][x]*kv[0] + imgp[y+1][x]*kv[1] + imgp[y+2][x]*kv[2]\n",
    "        #vc_img.write(str(int(tot1))+ \" \"+ (y==11)*\"\\n\")\n",
    "        imgres[y+1][x] = int(tot1)\n",
    "\n",
    "print(imgres)\n",
    "\n",
    "imglpf = np.zeros((10,10),np.uint8)\n",
    "\n",
    "#Horizontal Convolution\n",
    "\n",
    "W2 = 10\n",
    "H2 = 10\n",
    "\n",
    "for x in range(W2):\n",
    "    for y in range(H2):\n",
    "        tot = imgres[x+1][y]*kh[0] + imgres[x+1][y+1]*kh[1] + imgres[x+1][y+2]*kh[2]\n",
    "        imglpf[x][y] = int(tot)\n",
    "\n",
    "print(\"\\n\")\n",
    "\n",
    "print(imglpf)"
   ]
  },
  {
   "cell_type": "code",
   "execution_count": 29,
   "metadata": {},
   "outputs": [
    {
     "name": "stdout",
     "output_type": "stream",
     "text": [
      "[[  0   0   0   0   0   0   0   0   0   0   0   0]\n",
      " [  0 101 102 103 104 105 106 107 108 109 110   0]\n",
      " [  0 101 102 103 104 105 106 107 108 109 110   0]\n",
      " [  0 101 102 103 104 105 106 107 108 109 110   0]\n",
      " [  0 101 102 103 104 105 106 107 108 109 110   0]\n",
      " [  0 101 102 103 104 105 106 107 108 109 110   0]\n",
      " [  0 101 102 103 104 105 106 107 108 109 110   0]\n",
      " [  0 101 102 103 104 105 106 107 108 109 110   0]\n",
      " [  0 101 102 103 104 105 106 107 108 109 110   0]\n",
      " [  0 101 102 103 104 105 106 107 108 109 110   0]\n",
      " [  0 101 102 103 104 105 106 107 108 109 110   0]\n",
      " [  0   0   0   0   0   0   0   0   0   0   0   0]]\n",
      "\n",
      "\n",
      "[[  0   0   0   0   0   0   0   0   0   0   0   0]\n",
      " [  0  76 102 103 104 105 106 107 108 109  82   0]\n",
      " [  0  76 102 103 104 105 106 107 108 109  82   0]\n",
      " [  0  76 102 103 104 105 106 107 108 109  82   0]\n",
      " [  0  76 102 103 104 105 106 107 108 109  82   0]\n",
      " [  0  76 102 103 104 105 106 107 108 109  82   0]\n",
      " [  0  76 102 103 104 105 106 107 108 109  82   0]\n",
      " [  0  76 102 103 104 105 106 107 108 109  82   0]\n",
      " [  0  76 102 103 104 105 106 107 108 109  82   0]\n",
      " [  0  76 102 103 104 105 106 107 108 109  82   0]\n",
      " [  0  76 102 103 104 105 106 107 108 109  82   0]\n",
      " [  0   0   0   0   0   0   0   0   0   0   0   0]]\n"
     ]
    }
   ],
   "source": [
    "imghc = np.zeros((12,12),np.uint8)\n",
    "\n",
    "kh = np.array([1/4,1/2,1/4], np.float32)\n",
    "\n",
    "#Horizontal Convolution\n",
    "\n",
    "W2 = 12\n",
    "H2 = 10\n",
    "\n",
    "for x in range(W2):\n",
    "    for y in range(H2):\n",
    "        tot = imgp[x][y]*kh[0] + imgp[x][y+1]*kh[1] + imgp[x][y+2]*kh[2]\n",
    "        imghc[x][y+1] = int(tot)\n",
    "print(imgp)\n",
    "print(\"\\n\")\n",
    "print(imghc)"
   ]
  }
 ],
 "metadata": {
  "kernelspec": {
   "display_name": "Python 3.8.10 64-bit",
   "language": "python",
   "name": "python3"
  },
  "language_info": {
   "codemirror_mode": {
    "name": "ipython",
    "version": 3
   },
   "file_extension": ".py",
   "mimetype": "text/x-python",
   "name": "python",
   "nbconvert_exporter": "python",
   "pygments_lexer": "ipython3",
   "version": "3.8.10"
  },
  "orig_nbformat": 4,
  "vscode": {
   "interpreter": {
    "hash": "94f2dbc9e840bbf5c22d6d33400cf3201d841aabf0886e4a70e862fb8f8cca7f"
   }
  }
 },
 "nbformat": 4,
 "nbformat_minor": 2
}
